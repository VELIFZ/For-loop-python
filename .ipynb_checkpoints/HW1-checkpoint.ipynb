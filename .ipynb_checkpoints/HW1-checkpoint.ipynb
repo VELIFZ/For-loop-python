{
 "cells": [
  {
   "cell_type": "markdown",
   "id": "961c11bc",
   "metadata": {},
   "source": [
    "## Exercise #1 <br>\n",
    "<p>Cube Number Test... Print out all cubed numbers up to the total \n",
    "value1000. Meaning that if the cubed number is over 1000 break the loop.</p>"
   ]
  },
  {
   "cell_type": "code",
   "execution_count": 6,
   "id": "2cc16f8e",
   "metadata": {
    "scrolled": true
   },
   "outputs": [
    {
     "name": "stdout",
     "output_type": "stream",
     "text": [
      "0\n",
      "1\n",
      "8\n",
      "27\n",
      "64\n",
      "125\n",
      "216\n",
      "343\n",
      "512\n",
      "729\n",
      "1000\n"
     ]
    }
   ],
   "source": [
    "def cubed_numbers():\n",
    "    for i in range(11):\n",
    "        if i == 1000:\n",
    "            break\n",
    "        print(i**3)\n",
    "cubed_numbers()"
   ]
  },
  {
   "cell_type": "code",
   "execution_count": 7,
   "id": "3e537bfb",
   "metadata": {},
   "outputs": [
    {
     "name": "stdout",
     "output_type": "stream",
     "text": [
      "0\n",
      "1\n",
      "8\n",
      "27\n",
      "64\n",
      "125\n",
      "216\n",
      "343\n",
      "512\n",
      "729\n",
      "1000\n"
     ]
    }
   ],
   "source": [
    "def cub_num():\n",
    "    for num in range(1000):\n",
    "        if num ** 3 > 1000:\n",
    "            break\n",
    "        print(num ** 3)\n",
    "cub_num()"
   ]
  },
  {
   "cell_type": "code",
   "execution_count": 8,
   "id": "e5347512",
   "metadata": {},
   "outputs": [
    {
     "name": "stdout",
     "output_type": "stream",
     "text": [
      "0\n",
      "1\n",
      "8\n",
      "27\n",
      "64\n",
      "125\n",
      "216\n",
      "343\n",
      "512\n",
      "729\n",
      "1000\n"
     ]
    }
   ],
   "source": [
    "def num_cub():\n",
    "    i = 0\n",
    "    while i ** 3 <= 1000:\n",
    "        print(i ** 3)\n",
    "        i += 1\n",
    "num_cub()"
   ]
  },
  {
   "cell_type": "markdown",
   "id": "fbb027c5",
   "metadata": {},
   "source": [
    "## Exercise #2 <br>\n",
    "<p>Get first prime numbers up to 100</p>"
   ]
  },
  {
   "cell_type": "code",
   "execution_count": 9,
   "id": "f8953933",
   "metadata": {
    "scrolled": true
   },
   "outputs": [
    {
     "name": "stdout",
     "output_type": "stream",
     "text": [
      "2\n",
      "3\n",
      "5\n",
      "7\n",
      "11\n",
      "13\n",
      "17\n",
      "19\n",
      "23\n",
      "29\n",
      "31\n",
      "37\n",
      "41\n",
      "43\n",
      "47\n",
      "53\n",
      "59\n",
      "61\n",
      "67\n",
      "71\n",
      "73\n",
      "79\n",
      "83\n",
      "89\n",
      "97\n"
     ]
    }
   ],
   "source": [
    "# HINT::\n",
    "# An else after an if runs if the if didn’t\n",
    "# An else after a for runs if the for didn’t break\n",
    "def prime_numbers():\n",
    "    for p_num in range(2, 101):\n",
    "            for x in range(2, p_num):\n",
    "                if (p_num % x) == 0:\n",
    "                    break\n",
    "            else:\n",
    "                print(p_num)\n",
    "prime_numbers()\n",
    "#ilk once if vardi ilk for'un ardinda ona ihtiyacim yok"
   ]
  },
  {
   "cell_type": "markdown",
   "id": "77c92647",
   "metadata": {},
   "source": [
    "# Exercise 3 <br>\n",
    "<p>Take in a users input for their age, if they are younger than 18 print kids, if they're 18 to 65 print adults, else print seniors</p>"
   ]
  },
  {
   "cell_type": "code",
   "execution_count": 10,
   "id": "e2eb359e",
   "metadata": {},
   "outputs": [
    {
     "name": "stdout",
     "output_type": "stream",
     "text": [
      "What is your age? 18\n",
      "Kids\n"
     ]
    }
   ],
   "source": [
    "try:\n",
    "    age = int(input(\"What is your age? \")) #int yazman lazim, cunku input her zaman string error veriyor\n",
    "\n",
    "    if age <= 18:\n",
    "        print(\"Kids\")\n",
    "    elif age <= 65:\n",
    "        print(\"Adults\")\n",
    "    else:\n",
    "        print(\"Seniors\")\n",
    "        \n",
    "except:\n",
    "    print(\"Please use only integers.\")"
   ]
  }
 ],
 "metadata": {
  "kernelspec": {
   "display_name": "Python 3",
   "language": "python",
   "name": "python3"
  },
  "language_info": {
   "codemirror_mode": {
    "name": "ipython",
    "version": 3
   },
   "file_extension": ".py",
   "mimetype": "text/x-python",
   "name": "python",
   "nbconvert_exporter": "python",
   "pygments_lexer": "ipython3",
   "version": "3.8.8"
  }
 },
 "nbformat": 4,
 "nbformat_minor": 5
}
